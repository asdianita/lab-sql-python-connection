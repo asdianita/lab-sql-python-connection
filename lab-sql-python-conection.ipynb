{
 "cells": [
  {
   "cell_type": "code",
   "execution_count": null,
   "metadata": {},
   "outputs": [],
   "source": [
    "# In this lab, the objective is to identify the customers who were active in both May and June, \n",
    "# and how did their activity differ between months. To achieve this, follow these steps:\n",
    "\n",
    "# 1. Establish a connection between Python and the Sakila database.\n",
    "\n",
    "import mysql.connector\n",
    "from configparser import ConfigParser\n",
    "import pandas as pd\n",
    "from sqlalchemy import create_engine\n",
    "\n",
    "\n",
    "# Read file config.ini\n",
    "config = ConfigParser()\n",
    "config.read('config.ini')\n",
    "\n",
    "host=config['database']['host']\n",
    "user=config['database']['user']\n",
    "password=config['database']['password']\n",
    "database=config['database']['database']\n",
    "\n",
    "\n",
    "# Establish the connection\n",
    "connection = mysql.connector.connect(host,user,password,database)\n",
    "\n",
    "# Check if the connection was successful\n",
    "if connection.is_connected():\n",
    "    print(\"Connection successful!\")"
   ]
  },
  {
   "cell_type": "code",
   "execution_count": null,
   "metadata": {},
   "outputs": [],
   "source": [
    "# 2. Write a Python function called rentals_month that retrieves rental data for a given month \n",
    "# and year (passed as parameters) from the Sakila database as a Pandas DataFrame. The function \n",
    "# should take in three parameters:\n",
    "\n",
    "# engine: an object representing the database connection engine to be used to establish a connection \n",
    "# to the Sakila database.\n",
    "# month: an integer representing the month for which rental data is to be retrieved.\n",
    "# year: an integer representing the year for which rental data is to be retrieved.\n",
    "# The function should execute a SQL query to retrieve the rental data for the specified month and year\n",
    "# from the rental table in the Sakila database, and return it as a pandas DataFrame."
   ]
  },
  {
   "cell_type": "code",
   "execution_count": 8,
   "metadata": {},
   "outputs": [
    {
     "ename": "NameError",
     "evalue": "name 'create_engine' is not defined",
     "output_type": "error",
     "traceback": [
      "\u001b[1;31m---------------------------------------------------------------------------\u001b[0m",
      "\u001b[1;31mNameError\u001b[0m                                 Traceback (most recent call last)",
      "Cell \u001b[1;32mIn[8], line 1\u001b[0m\n\u001b[1;32m----> 1\u001b[0m engine \u001b[38;5;241m=\u001b[39m \u001b[43mcreate_engine\u001b[49m(\u001b[38;5;124mf\u001b[39m\u001b[38;5;124m'\u001b[39m\u001b[38;5;124mmysql+mysqlconnector://\u001b[39m\u001b[38;5;132;01m{\u001b[39;00muser\u001b[38;5;132;01m}\u001b[39;00m\u001b[38;5;124m:\u001b[39m\u001b[38;5;132;01m{\u001b[39;00mpassword\u001b[38;5;132;01m}\u001b[39;00m\u001b[38;5;124m@\u001b[39m\u001b[38;5;132;01m{\u001b[39;00mhost\u001b[38;5;132;01m}\u001b[39;00m\u001b[38;5;124m/sakila\u001b[39m\u001b[38;5;124m'\u001b[39m)\n\u001b[0;32m      3\u001b[0m \u001b[38;5;28;01mdef\u001b[39;00m \u001b[38;5;21mrentals_month\u001b[39m(engine, month, year):\n\u001b[0;32m      4\u001b[0m     \u001b[38;5;66;03m# Formateamos el mes y año para asegurarnos de que están en un rango correcto\u001b[39;00m\n\u001b[0;32m      5\u001b[0m     month \u001b[38;5;241m=\u001b[39m \u001b[38;5;28mstr\u001b[39m(month)\u001b[38;5;241m.\u001b[39mzfill(\u001b[38;5;241m2\u001b[39m)  \u001b[38;5;66;03m# Aseguramos que el mes tenga dos dígitos\u001b[39;00m\n",
      "\u001b[1;31mNameError\u001b[0m: name 'create_engine' is not defined"
     ]
    }
   ],
   "source": [
    "engine = create_engine(f'mysql+mysqlconnector://{user}:{password}@{host}/sakila')\n",
    "\n",
    "def rentals_month(engine, month, year):\n",
    "    # Formateamos el mes y año para asegurarnos de que están en un rango correcto\n",
    "    month = str(month).zfill(2)  # Aseguramos que el mes tenga dos dígitos\n",
    "    year = str(year)\n",
    "    \n",
    "    # Definimos el SQL query para seleccionar los datos del mes y año especificado\n",
    "    query = f\"\"\"\n",
    "    SELECT * FROM rental\n",
    "    WHERE MONTH(rental_date) = {month} AND YEAR(rental_date) = {year};\n",
    "    \"\"\"\n",
    "    \n",
    "    # Ejecutar el query y leer los datos en un DataFrame\n",
    "    df = pd.read_sql(query, con=engine)\n",
    "    \n",
    "    return df\n",
    "\n",
    "rentals_df_may = rentals_month(engine,5,2023)\n",
    "\n",
    "rentals_df_june = rentals_month(engine,6, 2023)"
   ]
  },
  {
   "cell_type": "code",
   "execution_count": null,
   "metadata": {},
   "outputs": [],
   "source": [
    "# 3. Develop a Python function called rental_count_month that takes the DataFrame provided by \n",
    "# rentals_month as input along with the month and year and returns a new DataFrame containing the \n",
    "# number of rentals made by each customer_id during the selected month and year.\n",
    "\n",
    "#The function should also include the month and year as parameters and use them to name the new \n",
    "# column according to the month and year, for example, if the input month is 05 and the year is \n",
    "# 2005, the column name should be \"rentals_05_2005\".\n",
    "\n",
    "#Hint: Consider making use of pandas groupby()"
   ]
  },
  {
   "cell_type": "code",
   "execution_count": 7,
   "metadata": {},
   "outputs": [],
   "source": [
    "def rental_count_month(df, month, year):\n",
    "    # Aseguramos que el formato del mes sea correcto, con dos dígitos\n",
    "    month = str(month).zfill(2)\n",
    "    year = str(year)\n",
    "    \n",
    "    # Usamos groupby para contar los alquileres por customer_id\n",
    "    rental_counts = df.groupby('customer_id').size().reset_index(name=f'rentals_{month}_{year}')\n",
    "    \n",
    "    return rental_counts\n"
   ]
  },
  {
   "cell_type": "code",
   "execution_count": null,
   "metadata": {},
   "outputs": [],
   "source": [
    "# 4. Create a Python function called compare_rentals that takes two DataFrames as input containing \n",
    "# the number of rentals made by each customer in different months and years. The function should \n",
    "# return a combined DataFrame with a new 'difference' column, which is the difference between the \n",
    "# number of rentals in the two months."
   ]
  },
  {
   "cell_type": "code",
   "execution_count": null,
   "metadata": {},
   "outputs": [],
   "source": [
    "def compare_rentals(df1, df2):\n",
    "    # Supongamos que df1 y df2 tienen una columna 'customer_id' y otra de recuento de alquileres, e.g., 'rentals_05_2023'\n",
    "\n",
    "    # Fusionamos los dos DataFrames en base a 'customer_id'\n",
    "    combined_df = pd.merge(df1, df2, on='customer_id', how='outer', suffixes=('_month1', '_month2'))\n",
    "    \n",
    "    # Rellenamos NaN con cero porque un cliente puede no tener alquileres en uno de los meses\n",
    "    combined_df.fillna(0, inplace=True)\n",
    "    \n",
    "    # Calculamos la diferencia y creamos una nueva columna 'difference'\n",
    "    rental_column1 = combined_df.columns[1]\n",
    "    rental_column2 = combined_df.columns[2]\n",
    "    combined_df['difference'] = combined_df[rental_column1] - combined_df[rental_column2]\n",
    "    \n",
    "    return combined_df\n",
    "\n",
    "# Ejemplo de uso:\n",
    "df_may_2023 = rental_count_month(rentals_df_may, 5, 2023)\n",
    "df_june_2023 = rental_count_month(rentals_df_june, 6, 2023)\n",
    "comparison_df = compare_rentals(df_may_2023, df_june_2023)"
   ]
  }
 ],
 "metadata": {
  "kernelspec": {
   "display_name": "Python 3",
   "language": "python",
   "name": "python3"
  },
  "language_info": {
   "codemirror_mode": {
    "name": "ipython",
    "version": 3
   },
   "file_extension": ".py",
   "mimetype": "text/x-python",
   "name": "python",
   "nbconvert_exporter": "python",
   "pygments_lexer": "ipython3",
   "version": "3.9.1"
  }
 },
 "nbformat": 4,
 "nbformat_minor": 2
}
